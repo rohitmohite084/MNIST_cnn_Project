{
 "cells": [
  {
   "cell_type": "code",
   "execution_count": 24,
   "id": "dc4a5c30-7800-4aea-a34c-9866b29f8f1c",
   "metadata": {},
   "outputs": [],
   "source": [
    "import pandas as pd\n",
    "import numpy as np\n",
    "import matplotlib.pyplot as plt\n",
    "import seaborn as sns\n",
    "import warnings\n",
    "warnings.filterwarnings('ignore')"
   ]
  },
  {
   "cell_type": "code",
   "execution_count": 25,
   "id": "278ef9fb-46c7-435d-a119-efd70e98c829",
   "metadata": {},
   "outputs": [],
   "source": [
    "# Load CSV\n",
    "train = pd.read_csv(r'C:\\Users\\ADMIN\\Downloads\\MNIST_Train.csv')\n",
    "test  = pd.read_csv(r'C:\\Users\\ADMIN\\Downloads\\mnist_test.csv')"
   ]
  },
  {
   "cell_type": "code",
   "execution_count": 26,
   "id": "4ba456e9-7d0c-43c2-bc93-b9c586e57a7a",
   "metadata": {},
   "outputs": [],
   "source": [
    "# Split features and labels\n",
    "x_train = train.iloc[:, 1:].values\n",
    "y_train = train.iloc[:, 0].values   # corrected\n",
    "x_test  = test.iloc[:, 1:].values\n",
    "y_test  = test.iloc[:, 0].values"
   ]
  },
  {
   "cell_type": "code",
   "execution_count": 27,
   "id": "fe7534c4-d3d0-47bd-9d31-3e18110a9425",
   "metadata": {},
   "outputs": [],
   "source": [
    "# Reshape and normalize\n",
    "x_train = x_train.reshape(-1, 28, 28, 1).astype('float32') / 255.0\n",
    "x_test  = x_test.reshape(-1, 28, 28, 1).astype('float32') / 255.0"
   ]
  },
  {
   "cell_type": "code",
   "execution_count": 28,
   "id": "dc76a33f-5943-475b-83a0-dd9eb32074ea",
   "metadata": {},
   "outputs": [
    {
     "data": {
      "image/png": "[encoded data removed]",
      "text/plain": [
       "<Figure size 500x500 with 9 Axes>"
      ]
     },
     "metadata": {},
     "output_type": "display_data"
    }
   ],
   "source": [
    "# Visualize some samples\n",
    "plt.figure(figsize=(5,5))\n",
    "for i in range(9):\n",
    "    plt.subplot(3,3,i+1)\n",
    "    plt.imshow(x_train[i].reshape(28,28), cmap='gray')\n",
    "    plt.title(f\"Label: {y_train[i]}\")\n",
    "    plt.axis('off')\n",
    "plt.show()"
   ]
  },
  {
   "cell_type": "code",
   "execution_count": 29,
   "id": "a929d149-9fea-41ca-924f-8f8d06138e37",
   "metadata": {},
   "outputs": [],
   "source": [
    "# TensorFlow & Keras\n",
    "import tensorflow as tf\n",
    "from tensorflow.keras import models, layers\n",
    "tf.get_logger().setLevel('ERROR')"
   ]
  },
  {
   "cell_type": "code",
   "execution_count": 30,
   "id": "7807e55b-1865-4078-bf68-0df22eab4e46",
   "metadata": {},
   "outputs": [],
   "source": [
    "# Build CNN model\n",
    "model = models.Sequential([\n",
    "    layers.Conv2D(32, (3,3), activation='relu', input_shape=(28,28,1)),\n",
    "    layers.MaxPooling2D((2,2)),\n",
    "    layers.Conv2D(64, (3,3), activation='relu'),\n",
    "    layers.MaxPooling2D((2,2)),\n",
    "    layers.Flatten(),\n",
    "    layers.Dense(64, activation='relu'),\n",
    "    layers.Dense(10, activation='softmax')\n",
    "])"
   ]
  },
  {
   "cell_type": "code",
   "execution_count": 31,
   "id": "888ab2f7-ced6-409d-b98f-2cddb1d19c7c",
   "metadata": {},
   "outputs": [],
   "source": [
    "# Compile\n",
    "model.compile(optimizer='adam',\n",
    "              loss='sparse_categorical_crossentropy',\n",
    "              metrics=['accuracy'])"
   ]
  },
  {
   "cell_type": "code",
   "execution_count": 32,
   "id": "be55ef39-53e0-4e67-a36e-f0295b252546",
   "metadata": {},
   "outputs": [
    {
     "name": "stdout",
     "output_type": "stream",
     "text": [
      "Epoch 1/5\n",
      "1875/1875 [==============================] - 36s 18ms/step - loss: 0.1460 - accuracy: 0.9562 - val_loss: 0.0494 - val_accuracy: 0.9833\n",
      "Epoch 2/5\n",
      "1875/1875 [==============================] - 34s 18ms/step - loss: 0.0460 - accuracy: 0.9864 - val_loss: 0.0361 - val_accuracy: 0.9876\n",
      "Epoch 3/5\n",
      "1875/1875 [==============================] - 39s 21ms/step - loss: 0.0331 - accuracy: 0.9900 - val_loss: 0.0305 - val_accuracy: 0.9897\n",
      "Epoch 4/5\n",
      "1875/1875 [==============================] - 32s 17ms/step - loss: 0.0237 - accuracy: 0.9921 - val_loss: 0.0374 - val_accuracy: 0.9886\n",
      "Epoch 5/5\n",
      "1875/1875 [==============================] - 34s 18ms/step - loss: 0.0177 - accuracy: 0.9943 - val_loss: 0.0303 - val_accuracy: 0.9907\n"
     ]
    }
   ],
   "source": [
    "# Train\n",
    "history = model.fit(x_train, y_train, epochs=5, validation_data=(x_test, y_test))"
   ]
  },
  {
   "cell_type": "code",
   "execution_count": 33,
   "id": "67db3370-04bb-46b5-9597-aa91ea00e0e9",
   "metadata": {},
   "outputs": [
    {
     "name": "stdout",
     "output_type": "stream",
     "text": [
      "313/313 - 2s - loss: 0.0303 - accuracy: 0.9907 - 2s/epoch - 7ms/step\n",
      "✅ Test Accuracy: 0.9907\n"
     ]
    }
   ],
   "source": [
    "# Evaluate\n",
    "test_loss, test_acc = model.evaluate(x_test, y_test, verbose=2)\n",
    "print(f\"✅ Test Accuracy: {test_acc:.4f}\")"
   ]
  },
  {
   "cell_type": "code",
   "execution_count": 34,
   "id": "4bdda84e-1856-4bad-acdd-dfb05c2bb175",
   "metadata": {},
   "outputs": [],
   "source": [
    "# Save model\n",
    "model.save(r\"E:\\MNIST_cnn_Project\\mnist_cnn.h5\")"
   ]
  }
 ],
 "metadata": {
  "kernelspec": {
   "display_name": "Python (mnist_env)",
   "language": "python",
   "name": "mnist_env"
  },
  "language_info": {
   "codemirror_mode": {
    "name": "ipython",
    "version": 3
   },
   "file_extension": ".py",
   "mimetype": "text/x-python",
   "name": "python",
   "nbconvert_exporter": "python",
   "pygments_lexer": "ipython3",
   "version": "3.10.18"
  }
 },
 "nbformat": 4,
 "nbformat_minor": 5
}
